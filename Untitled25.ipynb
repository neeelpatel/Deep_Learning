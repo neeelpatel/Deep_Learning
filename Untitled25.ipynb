{
 "cells": [
  {
   "cell_type": "markdown",
   "id": "b630f1bc",
   "metadata": {},
   "source": [
    "# list of programs"
   ]
  },
  {
   "cell_type": "markdown",
   "id": "0f986843",
   "metadata": {},
   "source": [
    "1.write a program to perform additionof two number."
   ]
  },
  {
   "cell_type": "code",
   "execution_count": 31,
   "id": "44e9f81c",
   "metadata": {},
   "outputs": [
    {
     "name": "stdout",
     "output_type": "stream",
     "text": [
      "enter first number3\n",
      "enter secound number6\n",
      "9\n"
     ]
    }
   ],
   "source": [
    "num1 = int(input(\"enter first number\"))\n",
    "num2 = int(input(\"enter secound number\"))\n",
    "sum = num1 +num2\n",
    "print(sum)"
   ]
  },
  {
   "cell_type": "markdown",
   "id": "31c6ca02",
   "metadata": {},
   "source": [
    "2.write a program to perform subtraction of two number."
   ]
  },
  {
   "cell_type": "code",
   "execution_count": 33,
   "id": "5a3c8681",
   "metadata": {},
   "outputs": [
    {
     "name": "stdout",
     "output_type": "stream",
     "text": [
      "enter first number10\n",
      "enter secound number5\n",
      "5\n"
     ]
    }
   ],
   "source": [
    "num1 = int(input(\"enter first number\"))\n",
    "num2 = int(input(\"enter secound number\"))\n",
    "sub = num1 - num2\n",
    "print(sub)"
   ]
  },
  {
   "cell_type": "markdown",
   "id": "e240e11d",
   "metadata": {},
   "source": [
    "3.write a program to perform multiplication of two number."
   ]
  },
  {
   "cell_type": "code",
   "execution_count": 37,
   "id": "0d02cb7c",
   "metadata": {},
   "outputs": [
    {
     "name": "stdout",
     "output_type": "stream",
     "text": [
      "enter first number7\n",
      "enter secound number8\n",
      "56\n"
     ]
    }
   ],
   "source": [
    "num1 = int(input(\"enter first number\"))\n",
    "num2 = int(input(\"enter secound number\"))\n",
    "mul = num1 * num2\n",
    "print(mul)"
   ]
  },
  {
   "cell_type": "markdown",
   "id": "93bad76c",
   "metadata": {},
   "source": [
    "4.write a program to perform  of division two number."
   ]
  },
  {
   "cell_type": "code",
   "execution_count": 38,
   "id": "0f86c51b",
   "metadata": {},
   "outputs": [
    {
     "name": "stdout",
     "output_type": "stream",
     "text": [
      "enter first number10\n",
      "enter secound number5\n",
      "2.0\n"
     ]
    }
   ],
   "source": [
    "num1 = int(input(\"enter first number\"))\n",
    "num2 = int(input(\"enter secound number\"))\n",
    "div = num1 / num2\n",
    "print(div)"
   ]
  },
  {
   "cell_type": "markdown",
   "id": "5be94d2a",
   "metadata": {},
   "source": [
    "5.write a program to perform  of modulo opration."
   ]
  },
  {
   "cell_type": "code",
   "execution_count": 39,
   "id": "991ba14a",
   "metadata": {},
   "outputs": [
    {
     "name": "stdout",
     "output_type": "stream",
     "text": [
      "enter first number10\n",
      "enter secound number5\n",
      "0\n"
     ]
    }
   ],
   "source": [
    "num1 = int(input(\"enter first number\"))\n",
    "num2 = int(input(\"enter secound number\"))\n",
    "module = num1 % num2\n",
    "print(module)"
   ]
  },
  {
   "cell_type": "markdown",
   "id": "976cd939",
   "metadata": {},
   "source": [
    "6.write a program to explain ternary opration"
   ]
  },
  {
   "cell_type": "code",
   "execution_count": 43,
   "id": "36825146",
   "metadata": {},
   "outputs": [
    {
     "name": "stdout",
     "output_type": "stream",
     "text": [
      "odd\n"
     ]
    }
   ],
   "source": [
    "check=7\n",
    "msg = \"even\" if check%2 == 0 else \"odd\"\n",
    "print(msg)"
   ]
  },
  {
   "cell_type": "markdown",
   "id": "07492ef0",
   "metadata": {},
   "source": [
    "7. simple program using increment and decrement oprator\n"
   ]
  },
  {
   "cell_type": "markdown",
   "id": "e1ab7bdc",
   "metadata": {},
   "source": [
    "# program if statement"
   ]
  },
  {
   "cell_type": "markdown",
   "id": "a68e5e08",
   "metadata": {},
   "source": [
    "8.write a program to accept two integers and check wheather they are equal or not"
   ]
  },
  {
   "cell_type": "code",
   "execution_count": 45,
   "id": "fa78c167",
   "metadata": {},
   "outputs": [
    {
     "name": "stdout",
     "output_type": "stream",
     "text": [
      "enter a first number5\n",
      "enter a secound number8\n",
      "not qual\n"
     ]
    }
   ],
   "source": [
    "num1 = input(\"enter a first number\")\n",
    "num2 = input(\"enter a secound number\")\n",
    "if num1==num2:\n",
    "    print(\"equal\")\n",
    "else:\n",
    "    print(\"not qual\")"
   ]
  },
  {
   "cell_type": "markdown",
   "id": "0619a9ea",
   "metadata": {},
   "source": [
    "10.write a program to check wheather a given number is positive or negative."
   ]
  },
  {
   "cell_type": "markdown",
   "id": "6cf32f79",
   "metadata": {},
   "source": [
    "10.write a\n",
    "\n",
    "program to check wheather a given year  is leap year or not."
   ]
  },
  {
   "cell_type": "code",
   "execution_count": 48,
   "id": "f42b9de4",
   "metadata": {},
   "outputs": [
    {
     "name": "stdout",
     "output_type": "stream",
     "text": [
      "enter a year2016\n",
      "leap year\n"
     ]
    }
   ],
   "source": [
    "year = int(input(\"enter a year\"))\n",
    "if(year%4==0 and year%100 != 0 or year%400==0):\n",
    "    print(\"leap year\")\n",
    "else:\n",
    "    print(\"not leap year\")"
   ]
  },
  {
   "cell_type": "code",
   "execution_count": null,
   "id": "11bf4e72",
   "metadata": {},
   "outputs": [],
   "source": []
  },
  {
   "cell_type": "code",
   "execution_count": null,
   "id": "2868e690",
   "metadata": {},
   "outputs": [],
   "source": []
  },
  {
   "cell_type": "markdown",
   "id": "b1672ef9",
   "metadata": {},
   "source": [
    "# Programs on loop"
   ]
  },
  {
   "cell_type": "markdown",
   "id": "e3b85a85",
   "metadata": {},
   "source": [
    "18.Write program to find the sum of first 10 natural numbers"
   ]
  },
  {
   "cell_type": "code",
   "execution_count": 14,
   "id": "1a86d6c1",
   "metadata": {},
   "outputs": [
    {
     "name": "stdout",
     "output_type": "stream",
     "text": [
      "45\n"
     ]
    }
   ],
   "source": [
    "sum=0\n",
    "for i in range(0,10):\n",
    "    sum=sum+i\n",
    "print(sum)"
   ]
  },
  {
   "cell_type": "markdown",
   "id": "d288eae0",
   "metadata": {},
   "source": [
    "19.write a program to check wheather given number is positive or negative"
   ]
  },
  {
   "cell_type": "code",
   "execution_count": 16,
   "id": "6fabb517",
   "metadata": {},
   "outputs": [
    {
     "name": "stdout",
     "output_type": "stream",
     "text": [
      "enter a number-5\n",
      "negative\n"
     ]
    }
   ],
   "source": [
    "num = int(input(\"enter a number\"))\n",
    "if num>0:\n",
    "    print(\"positive\")\n",
    "else:\n",
    "    print(\"negative\")"
   ]
  },
  {
   "cell_type": "markdown",
   "id": "3c466805",
   "metadata": {},
   "source": [
    "20.cube"
   ]
  },
  {
   "cell_type": "code",
   "execution_count": 19,
   "id": "bc9764da",
   "metadata": {},
   "outputs": [
    {
     "name": "stdout",
     "output_type": "stream",
     "text": [
      "enter a number of terms5\n",
      "1\n",
      "8\n",
      "27\n",
      "64\n",
      "125\n"
     ]
    }
   ],
   "source": [
    "n=int(input(\"enter a number of terms\"))\n",
    "for i in range(1,n+1):\n",
    "    cube = i*i*i\n",
    "    print(cube)\n"
   ]
  },
  {
   "cell_type": "markdown",
   "id": "f5877567",
   "metadata": {},
   "source": [
    "21 .write program to display the multiplication tablle of given integer."
   ]
  },
  {
   "cell_type": "code",
   "execution_count": 23,
   "id": "3f85d073",
   "metadata": {},
   "outputs": [
    {
     "name": "stdout",
     "output_type": "stream",
     "text": [
      "enter a number3\n",
      "3 * 1 = 3\n",
      "3 * 2 = 6\n",
      "3 * 3 = 9\n",
      "3 * 4 = 12\n",
      "3 * 5 = 15\n",
      "3 * 6 = 18\n",
      "3 * 7 = 21\n",
      "3 * 8 = 24\n",
      "3 * 9 = 27\n",
      "3 * 10 = 30\n"
     ]
    }
   ],
   "source": [
    "number = int(input(\"enter a number\"))\n",
    "for i in range(1,11):\n",
    "    ans=number*i\n",
    "    print(number,\"*\",i,\"=\",ans)"
   ]
  },
  {
   "cell_type": "markdown",
   "id": "1aee4e1a",
   "metadata": {},
   "source": [
    "22.write a program for calculate factorial of the given number"
   ]
  },
  {
   "cell_type": "code",
   "execution_count": 26,
   "id": "3be88b2e",
   "metadata": {},
   "outputs": [
    {
     "name": "stdout",
     "output_type": "stream",
     "text": [
      "enter number for factorial  5\n",
      "factorial of  5 is 120\n"
     ]
    }
   ],
   "source": [
    "num = int(input(\"enter number for factorial  \"))\n",
    "fact = 1\n",
    "for i in range(1,n+1):\n",
    "    fact = fact *i\n",
    "print(\"factorial of \",num ,\"is\",fact)"
   ]
  },
  {
   "cell_type": "markdown",
   "id": "7ee481dc",
   "metadata": {},
   "source": [
    "23 . write a program to display the terms of even natural number and their sum."
   ]
  },
  {
   "cell_type": "code",
   "execution_count": 30,
   "id": "59daa748",
   "metadata": {},
   "outputs": [
    {
     "name": "stdout",
     "output_type": "stream",
     "text": [
      "enter the numer of terms10\n",
      "0\n",
      "2\n",
      "4\n",
      "6\n",
      "8\n",
      "10\n",
      "there sum is: 30\n"
     ]
    }
   ],
   "source": [
    "num = int(input(\"enter the numer of terms\"))\n",
    "sum=0\n",
    "for i in range(0,num+1,2):\n",
    "    print(i)\n",
    "    sum=sum+i\n",
    "print(\"there sum is:\",sum)\n",
    "    "
   ]
  },
  {
   "cell_type": "markdown",
   "id": "8112473f",
   "metadata": {},
   "source": [
    "write a programt to find a sum of digit in given number\n",
    "\n",
    "123 = 1+2+3=6"
   ]
  },
  {
   "cell_type": "code",
   "execution_count": 9,
   "id": "cbedfbb9",
   "metadata": {},
   "outputs": [
    {
     "name": "stdout",
     "output_type": "stream",
     "text": [
      "enter a number5555\n",
      "20\n"
     ]
    }
   ],
   "source": [
    "n=input(\"enter a number\")\n",
    "sum=0\n",
    "for i in n:\n",
    "    sum=sum+int(i)\n",
    "print(sum)\n",
    "    \n",
    "    \n",
    "\n",
    "\n",
    "    "
   ]
  },
  {
   "cell_type": "code",
   "execution_count": null,
   "id": "928d9cdc",
   "metadata": {},
   "outputs": [],
   "source": []
  },
  {
   "cell_type": "code",
   "execution_count": null,
   "id": "d057ce9c",
   "metadata": {},
   "outputs": [],
   "source": []
  },
  {
   "cell_type": "code",
   "execution_count": null,
   "id": "8ae408f6",
   "metadata": {},
   "outputs": [],
   "source": []
  },
  {
   "cell_type": "markdown",
   "id": "1508006f",
   "metadata": {},
   "source": [
    "24.Python program to count vowels and consonants in the string\n"
   ]
  },
  {
   "cell_type": "code",
   "execution_count": 3,
   "id": "65983614",
   "metadata": {},
   "outputs": [
    {
     "name": "stdout",
     "output_type": "stream",
     "text": [
      "enter a stringneel\n",
      "vowel 2 constant 2\n"
     ]
    }
   ],
   "source": [
    "string = input(\"enter a string\")\n",
    "vowel=0\n",
    "list=['a','e','i','o','u']\n",
    "constant = 0\n",
    "for i in string:\n",
    "    if i in list:\n",
    "        vowel=vowel+1\n",
    "    else:\n",
    "        constant += 1\n",
    "print(\"vowel\",vowel,\"constant\",constant)\n"
   ]
  },
  {
   "cell_type": "markdown",
   "id": "cfcae25b",
   "metadata": {},
   "source": [
    "25.Python program to find smallest number among three\n"
   ]
  },
  {
   "cell_type": "code",
   "execution_count": 5,
   "id": "22070867",
   "metadata": {},
   "outputs": [
    {
     "name": "stdout",
     "output_type": "stream",
     "text": [
      "maximum is 15\n"
     ]
    }
   ],
   "source": [
    "n1 = 5\n",
    "n2 = 10\n",
    "n3 = 15\n",
    " \n",
    "mx = (n1 if (n1 > n2 and n1 > n3) else\n",
    "     (n2 if (n2 > n1 and n2 > n3) else n3))\n",
    "\n",
    "max = (n1 if (n1>n2 and n1>n3)else \n",
    "       (n2 if (n2>n1 and n2>n3) else n3))\n",
    "print(\"maximum is\",max)"
   ]
  },
  {
   "cell_type": "code",
   "execution_count": 11,
   "id": "20d7e8a0",
   "metadata": {},
   "outputs": [
    {
     "name": "stdout",
     "output_type": "stream",
     "text": [
      "Enter the value for a :45\n",
      "Enter the value for b :6\n",
      "Enter the value for c :23\n",
      "b is smallest\n"
     ]
    }
   ],
   "source": [
    "a = int(input(\"Enter the value for a :\"))\n",
    "b = int(input(\"Enter the value for b :\"))\n",
    "c = int(input(\"Enter the value for c :\"))\n",
    "#comparing integer ‘a’ with other two integer\n",
    "if a<=b and a<=c:\n",
    "    print(\"a is smallest\")\n",
    "#comparing integer ‘b’ with other two integer\n",
    "elif b<=a and b<=c:\n",
    "    print(\"b is smallest\")\n",
    "#comparing integer ‘c’ with other two integer\n",
    "elif c<=a and c<=b:\n",
    "    print(\"c is smallest\")"
   ]
  },
  {
   "cell_type": "code",
   "execution_count": 1,
   "id": "94c9e32d",
   "metadata": {},
   "outputs": [
    {
     "name": "stdout",
     "output_type": "stream",
     "text": [
      "10 20 30\n"
     ]
    }
   ],
   "source": [
    "p, q, r = 10, 20 ,30\n",
    "print(p, q, r)"
   ]
  },
  {
   "cell_type": "markdown",
   "id": "d7797b00",
   "metadata": {},
   "source": [
    "26.Python program to swap two variables\n"
   ]
  },
  {
   "cell_type": "code",
   "execution_count": 2,
   "id": "3f6ef6da",
   "metadata": {},
   "outputs": [
    {
     "name": "stdout",
     "output_type": "stream",
     "text": [
      "10\n",
      "9\n"
     ]
    }
   ],
   "source": [
    "a=9\n",
    "b=10\n",
    "a,b=b,a\n",
    "print(a)\n",
    "print(b)"
   ]
  },
  {
   "cell_type": "markdown",
   "id": "d9c89e83",
   "metadata": {},
   "source": [
    "27.Python Program to Generate a Random Number\n"
   ]
  },
  {
   "cell_type": "code",
   "execution_count": 15,
   "id": "705163c1",
   "metadata": {},
   "outputs": [
    {
     "name": "stdout",
     "output_type": "stream",
     "text": [
      "0.5150902218477125\n"
     ]
    }
   ],
   "source": [
    "import random\n",
    "x=random.random()\n",
    "print(x)"
   ]
  },
  {
   "cell_type": "markdown",
   "id": "8ffe6510",
   "metadata": {},
   "source": [
    "28.Python program to convert Celsius to Fahrenheit\n"
   ]
  },
  {
   "cell_type": "markdown",
   "id": "416870f9",
   "metadata": {},
   "source": [
    "T(°Fahrenheit)=(T(°Celsius)*1.8)+32\n"
   ]
  },
  {
   "cell_type": "code",
   "execution_count": 1,
   "id": "fe0685e7",
   "metadata": {},
   "outputs": [
    {
     "name": "stdout",
     "output_type": "stream",
     "text": [
      "enter tempreture in celscfous7\n",
      "44.6\n"
     ]
    }
   ],
   "source": [
    "celsius = float(input(\"enter tempreture in celscfous\"))\n",
    "fah_ = (celsius * 1.8) + 32\n",
    "print(fah_)\n",
    "\n"
   ]
  },
  {
   "cell_type": "markdown",
   "id": "9a960b8c",
   "metadata": {},
   "source": [
    "29.Python program to display calendar\n"
   ]
  },
  {
   "cell_type": "code",
   "execution_count": 4,
   "id": "ef961870",
   "metadata": {},
   "outputs": [
    {
     "name": "stdout",
     "output_type": "stream",
     "text": [
      "Enter year: 2023\n",
      "Enter month: 5\n",
      "      May 2023\n",
      "Mo Tu We Th Fr Sa Su\n",
      " 1  2  3  4  5  6  7\n",
      " 8  9 10 11 12 13 14\n",
      "15 16 17 18 19 20 21\n",
      "22 23 24 25 26 27 28\n",
      "29 30 31\n",
      "\n"
     ]
    }
   ],
   "source": [
    "import calendar\n",
    "yy = int(input(\"Enter year: \"))  \n",
    "mm = int(input(\"Enter month: \"))  \n",
    "print(calendar.month(yy,mm))  "
   ]
  },
  {
   "cell_type": "markdown",
   "id": "f8bba9ac",
   "metadata": {},
   "source": [
    "# Logical question"
   ]
  },
  {
   "cell_type": "markdown",
   "id": "00edd301",
   "metadata": {},
   "source": [
    "1. input= \"sky is blue\"\n",
    "   output = \"blue is sky\""
   ]
  },
  {
   "cell_type": "code",
   "execution_count": 3,
   "id": "d70e0f05",
   "metadata": {},
   "outputs": [
    {
     "name": "stdout",
     "output_type": "stream",
     "text": [
      "blue is sky\n"
     ]
    }
   ],
   "source": [
    "string = \"sky is blue\"\n",
    "str1 = string.split()\n",
    "reverse = str1[::-1]\n",
    "str2=\" \".join(reverse)\n",
    "print(str2)\n",
    "\n"
   ]
  },
  {
   "cell_type": "code",
   "execution_count": 6,
   "id": "5c462864",
   "metadata": {},
   "outputs": [
    {
     "name": "stdout",
     "output_type": "stream",
     "text": [
      "blue is sky\n"
     ]
    }
   ],
   "source": [
    "#in one line\n",
    "str1 = \" \".join(string.split()[::-1])\n",
    "print(str1)"
   ]
  },
  {
   "cell_type": "markdown",
   "id": "31866dc6",
   "metadata": {},
   "source": [
    "2.\n",
    "input = [1,2,2,3,3,4,5,5,5,6,6]\n",
    "output : [1,4]"
   ]
  },
  {
   "cell_type": "code",
   "execution_count": 9,
   "id": "1424e002",
   "metadata": {},
   "outputs": [
    {
     "name": "stdout",
     "output_type": "stream",
     "text": [
      "[1, 4]\n"
     ]
    }
   ],
   "source": [
    "list1 = [1,2,3,2,3,3,4,5,5,5,6,6] \n",
    "newlist = []\n",
    "for i in list1:\n",
    "    if list1.count(i)==1:\n",
    "        newlist.append(i)\n",
    "print(newlist)\n",
    "        "
   ]
  },
  {
   "cell_type": "markdown",
   "id": "ebba91bf",
   "metadata": {},
   "source": [
    "3.mtstr=\"a,a,b,b,b,c,c,c,c\"\n",
    "output = a:2,b:3,c:4"
   ]
  },
  {
   "cell_type": "code",
   "execution_count": 24,
   "id": "0f2e7b79",
   "metadata": {},
   "outputs": [
    {
     "name": "stdout",
     "output_type": "stream",
     "text": [
      "a:2,b:3,c:4,"
     ]
    }
   ],
   "source": [
    "mystr = \"a,a,b,b,b,c,c,c,c\"\n",
    "mylist = mystr.split(\",\")\n",
    "visit = []\n",
    "for i in mylist:\n",
    "    if i not in visit:\n",
    "        print(f\"{i}:{mylist.count(i)}\",end=\",\")\n",
    "        visit.append(i)"
   ]
  },
  {
   "cell_type": "code",
   "execution_count": 12,
   "id": "4ac588d3",
   "metadata": {},
   "outputs": [
    {
     "name": "stdout",
     "output_type": "stream",
     "text": [
      "enter a number : 789\n",
      "['9', '8', '7']\n",
      "987\n"
     ]
    }
   ],
   "source": [
    "#4.write a program to reverse a number\n",
    "n = int(input(\"enter a number : \"))\n",
    "newlist=[]\n",
    "reverse=[]\n",
    "for i in str(n):\n",
    "    newlist.append(i)\n",
    "reverse = newlist[::-1]\n",
    "print(reverse)\n",
    "print(\"\".join(reverse))\n",
    "    \n",
    "\n"
   ]
  },
  {
   "cell_type": "markdown",
   "id": "3dc14035",
   "metadata": {},
   "source": [
    "5.Python program to check given number is prime or not\n"
   ]
  },
  {
   "cell_type": "code",
   "execution_count": 25,
   "id": "af7682c6",
   "metadata": {},
   "outputs": [
    {
     "name": "stdout",
     "output_type": "stream",
     "text": [
      "please give a number : 29\n",
      "given number is prime\n"
     ]
    }
   ],
   "source": [
    "i,temp=0,0\n",
    "n = int(input(\"please give a number : \"))\n",
    "for i in range(2,n):\n",
    "    if n%i == 0:\n",
    "        temp=1\n",
    "        break\n",
    "if temp == 1:\n",
    "    print(\"given number is not prime\")\n",
    "else:\n",
    "    print(\"given number is prime\") "
   ]
  },
  {
   "cell_type": "code",
   "execution_count": 19,
   "id": "9de08473",
   "metadata": {},
   "outputs": [
    {
     "data": {
      "text/plain": [
       "3"
      ]
     },
     "execution_count": 19,
     "metadata": {},
     "output_type": "execute_result"
    }
   ],
   "source": [
    "7//2"
   ]
  },
  {
   "cell_type": "code",
   "execution_count": null,
   "id": "b1397b50",
   "metadata": {},
   "outputs": [],
   "source": []
  },
  {
   "cell_type": "code",
   "execution_count": null,
   "id": "bc0c18c0",
   "metadata": {},
   "outputs": [],
   "source": []
  },
  {
   "cell_type": "code",
   "execution_count": null,
   "id": "42b8f47c",
   "metadata": {},
   "outputs": [],
   "source": []
  },
  {
   "cell_type": "code",
   "execution_count": null,
   "id": "428cff8d",
   "metadata": {},
   "outputs": [],
   "source": []
  },
  {
   "cell_type": "code",
   "execution_count": null,
   "id": "c2110175",
   "metadata": {},
   "outputs": [],
   "source": []
  },
  {
   "cell_type": "code",
   "execution_count": null,
   "id": "2fa4560d",
   "metadata": {},
   "outputs": [],
   "source": []
  }
 ],
 "metadata": {
  "kernelspec": {
   "display_name": "Python 3 (ipykernel)",
   "language": "python",
   "name": "python3"
  },
  "language_info": {
   "codemirror_mode": {
    "name": "ipython",
    "version": 3
   },
   "file_extension": ".py",
   "mimetype": "text/x-python",
   "name": "python",
   "nbconvert_exporter": "python",
   "pygments_lexer": "ipython3",
   "version": "3.9.7"
  }
 },
 "nbformat": 4,
 "nbformat_minor": 5
}
